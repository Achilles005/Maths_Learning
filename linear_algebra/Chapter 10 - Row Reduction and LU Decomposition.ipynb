{
 "cells": [
  {
   "cell_type": "code",
   "execution_count": 1,
   "id": "1efdcdfe-d728-4b08-aed1-02b50e0a0902",
   "metadata": {},
   "outputs": [],
   "source": [
    "import numpy as np\n",
    "import sympy as sym\n",
    "import scipy\n",
    "import matplotlib.pyplot as plt"
   ]
  },
  {
   "cell_type": "markdown",
   "id": "e520c16c-1c7b-4830-97b0-25277bb74afb",
   "metadata": {},
   "source": [
    "Now we shall move to LU decomposition. LU, like QR, is one of the computational back‐bones  underlying  data-science  algorithms,  including  least  squares  model  fitting  and the matrix inverse.\n",
    "The  thing  about  LU  decomposition  is  you  cannot  simply  learn  it  immediately. Instead,  you  first  need  to  learn  about  systems  of  equations,  row  reduction,  and Gaussian  elimination.  And  in  the  course  of  learning  those  topics,  you’ll  also  learn about echelon matrices and permutation matrices."
   ]
  },
  {
   "cell_type": "markdown",
   "id": "6c5ebb46-4ad7-4a1e-9944-90c8b70cd74c",
   "metadata": {},
   "source": [
    "### System of Equations\n",
    "To  understand  LU  decomposition  and  its  applications,  you  need  to  understand  row reduction  and  Gaussian  elimination.  And  to  understand  those  topics,  you  need  to understand  how  to  manipulate  equations,  convert  them  into  a  matrix  equation,  and solve that matrix equation using row reduction.<br>\n",
    "Let’s start with a “system” of one equation:\n",
    "$$2x = 8 $$<br>\n",
    "You can do various mathematical manipulations to the  equation as  long  as  you  do  the  same  thing  to  both  sides  of  the  equation.  That means  that  the  following  equation  is  not  the  same  as  the  previous  one,  but  they  are related to each other by simple manipulations. More importantly, any solution to one solution is a solution to the other:<br>\n",
    "$$ 5(2x-3) = 5(8-3) $$\n",
    "Now let’s move to a system of two equations:\n",
    "$$ x = 4 - y$$\n",
    "$$ y = x/2 + 2$$\n",
    "In  this  system  of  equations,  it  is  impossible  to  solve  for  unique  values  of  x  and  y from  either  of  those  equations  alone.  Instead,  you  need  to  consider  both  equations simultaneously to derive the solution. If you try to solve that system now, you would probably  take  the  strategy  of  substituting  y  in  the  first  equation  with  the  right handside  of  the  second  equation.  After  solving  for  x  in  the  first  equation,  you  plug  that value into the second equation to solve for y. This strategy is similar to (though not as efficient as)<b> back substitution</b>.<br>\n",
    "An  important  feature  of  a  system  of  equations  is  that  you  can  add  or  subtract individual  equations  to  each  other.  In  the  following  equations,  I’ve  added  two  times the  second  equation  to  the  first  and  subtracted  the  first  original  equation  from  the second (parentheses added for clarity):<br>\n",
    "$$ x + (2y) = 4 - y + (x + 4)$$\n",
    "$$ y − (x) = x/2 + 2 − (4 − y)$$\n",
    "the  upshot  is  that  x  drops  out  of  the first  equation  while  y  drops  out  of  the  second  equation.  That  makes  the  solution much easier to calculate (x = 4/3, y = 8/3).<br><br>\n",
    "Here’s the important point:<b> scalar multiplying  equations  and  adding  them  to  other  equations  made  the  solution  to  the  system easier to find. Again, the modulated and original systems are not the same equations,but  their  solutions  are  the  same  because  the  two  systems  are  linked  by  a  series  of linear operations.</b>"
   ]
  },
  {
   "cell_type": "markdown",
   "id": "77551b63-e058-4676-b497-eabc8d64417c",
   "metadata": {},
   "source": [
    "### Converting Equations into Matrices\n",
    "Translating equations into matrices is conceptually simple, and involves two steps:-\n",
    "1. Organize  the  equations  so  that  the  constants  are  on  the  right-hand  side  of  the equations. The constants are the numbers that are unattached to the variables (sometimes  called  intercepts  or  offsets).  The  variables  and  their  multiplying  coefficients are on  the  left-hand  side  of  the  equation,  in  the  same  order  (e.g.,  all  equations  should have  the  x  term  first,  then  the  y  term,  and  so  on).  The  following  equations  form  the system of equations we’ve been working with, in the proper organization:<br>$$ x + y = 4$$ $$ -x/2 + y = 2 $$\n",
    "2. Second,  separate  the  coefficients  (the  numbers  multiplying  the  variables;  variables that  are  missing  from  an  equation  have  a  coefficient  of  zero)  into  a  matrix  with  one row per equation. The variables are placed into a column vector that right-multiplies the  coefficients  matrix.  And  the  constants  are  placed  into  a  column  vector  on  the right-hand side of the equation. Our example system has a matrix equation that looks like this:$$ \\begin{bmatrix}1 & 1 \\\\ -1/2 & 1\\end{bmatrix}\\begin{bmatrix}x \\\\ y \\end{bmatrix} = \\begin{bmatrix} 4 \\\\ 2\\end{bmatrix}$$<br><br>\n",
    "And voilà! You’ve converted a system of equations into one matrix equation. We can refer to this equation as <b>Ax=b</b>, where A is the matrix of coefficients, x is a vector of unknown variables to solve for (in this case, x is the vector comprising $[x y]$), and b is a vector of constants."
   ]
  },
  {
   "cell_type": "markdown",
   "id": "28fb44e7-22bb-4559-be00-d076ca7a546b",
   "metadata": {},
   "source": [
    "### Working with Matrix Equations\n",
    "You  can  manipulate  matrix  equations  just  like  normal  equations,  including  adding, multiplying,  transposing,  etc.,  as  long  as  the  manipulations  are  valid  (e.g.,  matrix sizes match for addition) and all manipulations affect both sides of the equation. For example, the following progression of equations is valid:\n",
    "$$\n",
    "Ax = b\n",
    "$$\n",
    "$$\n",
    "v + Ax = v + b\n",
    "$$\n",
    "$$\n",
    "(v + Ax)^T = (v + b)^T\n",
    "$$\n",
    "The main difference between working with matrix equations versus scalar equations is that because matrix multiplication is side-dependent, you must multiply matrices in the same way on both sides of the equation.\n",
    "$$\n",
    "AX = B\n",
    "$$\n",
    "$$\n",
    "CAX = CB\n",
    "$$\n",
    "Notice  that  C  premultiplies  both  sides  of  the  equation.  In  contrast,  the  following progression is not valid:\n",
    "$$\n",
    "AX = B\n",
    "$$\n",
    "$$\n",
    "CAX = BC\n",
    "$$\n",
    "The  problem  here  is  that  C post multiplies  in  the  left-hand  side  but  pre multiplies in  the  right-hand  side.  To  be  sure,  there  will  be  a  few  exceptional  cases  where  that equation  is  valid  (e.g.  if  C  is  the  identity  or  zeros  matrix),  but  in  general,  that progression is not valid.\n",
    "<br><br>\n",
    "We  will  solve  for  the  unknown  matrix  X  in  the equation AX=B. The following code generates A and B from random numbers. You already know that we can solve for X by using $A^{−1}$. The question is whether the order of multiplication matters.<br><br>\n",
    "#### If  matrix  multiplication  were  commutative  (meaning  that  the  order  doesn’t  matter), then res1 and res2 should both equal the zeros matrix. Let’s see:"
   ]
  },
  {
   "cell_type": "code",
   "execution_count": 2,
   "id": "6aedf31f-3e88-4312-a038-e6a01e3da42b",
   "metadata": {},
   "outputs": [
    {
     "name": "stdout",
     "output_type": "stream",
     "text": [
      "[[-0.  0.  0. -0.]\n",
      " [ 0.  0.  0. -0.]\n",
      " [-0.  0. -0.  0.]\n",
      " [-0. -0. -0. -0.]]\n",
      "[[  1.2  -13.53   1.2   -5.94]\n",
      " [  1.14  -4.4    0.48  -1.2 ]\n",
      " [ -1.98   2.83  -0.44  -2.2 ]\n",
      " [ -2.37  16.08  -3.25   3.64]]\n"
     ]
    }
   ],
   "source": [
    "A = np.random.randn(4,4)\n",
    "B = np.random.randn(4,4)\n",
    "# solve for X\n",
    "X1 = np.linalg.inv(A) @ B\n",
    "X2 = B @ np.linalg.inv(A)\n",
    "# residual (should be zeros matrix)\n",
    "res1 = A@X1 - B\n",
    "res2 = A@X2 - B\n",
    "print(np.round(res1,2))\n",
    "print(np.round(res2,2))"
   ]
  },
  {
   "cell_type": "markdown",
   "id": "2cc54c1e-ce0d-4b09-9931-2a7a8cc50e14",
   "metadata": {},
   "source": [
    "## Row Reduction\n",
    "Row  reduction  means  iteratively  applying  two  operations scalar  multiplication  and addition to rows of a matrix. Row reduction relies on the same principle as adding equations to other equations within a system.<br>Memorize this statement: <b>The goal of row reduction is to transform a dense matrix into an upper-triangular matrix.</b>\n",
    "$$\n",
    "\\begin{bmatrix}2 & 3\\\\ -2 & 2\\end{bmatrix}\\xrightarrow{\\text{R2 = R1 + R2}} \\begin{bmatrix}2 & 3\\\\ 0 & 5\\end{bmatrix}\n",
    "$$\n",
    "#### The  upper-triangular  matrix  that  results  from  row  reduction  is  called  the  echelon form of the matrix.\n",
    "### Formally,  a  matrix  is  in  echelon  form  if:<br>1.The  leftmost  nonzero  number  in  a  row(which is called the pivot) is to the right of the pivot of rows above. <br>2. Any rows of all zeros are below rows containing nonzeros.\n",
    "Similar  to  manipulating  equations  in  a  system,  the  matrix  after  row  reduction  is different  from  the  matrix  before  row  reduction.  But  the  two  matrices  are  linked  by  a linear  transform.  And  because  linear  transforms  can  be  represented  by  matrices,  we can use matrix multiplication to express row reduction.<br>\n",
    "I  will  call  that  matrix $L^{−1}$  for  reasons  that  will  become  clear  when  I  introduce  LU decomposition. Thus,  in   the  expression $L^{−1}A=U$,  $L^{−1}$  is   the  linear  transformation that  keeps  track  of    the  manipulations  we’ve  implemented  through  row  reduction.  For now, you don’t need to focus on $L^{−1}$ in fact, it’s often ignored during Gaussian elimination. But the key point (slightly expanded from an earlier claim) is this:<b><i> row reduction involves transforming a matrix into an upper-triangular matrix via row manipulations,which can be implemented as premultiplication by a transformation matrix.</b></i>\n",
    "$$\n",
    "\\begin{bmatrix}1 & 2 & 2\\\\-1 & 3 & 0\\\\2 & 4 & -3\\end{bmatrix}\\xrightarrow{\\text{-2R1 + R3}}\\begin{bmatrix}1 & 2 & 2\\\\-1 & 3 & 0\\\\0 & 0 & -7\\end{bmatrix}\\xrightarrow{\\text{R1 + R2}}\\begin{bmatrix}1 & 2 & 2\\\\0 & 5 & 2\\\\0 & 0 & -7\\end{bmatrix}\n",
    "$$"
   ]
  },
  {
   "cell_type": "markdown",
   "id": "b81d058f-0013-4d93-b7bf-943db427df21",
   "metadata": {},
   "source": [
    "### Gaussian Elimination\n",
    "Solving  a  matrix  equation  without  inverting any matrices.This  technique  is  called  Gaussian  elimination.Gaussian  elimination  is  simple:  augment  the  matrix  of  coefficients  by  the  vector  of constants,  row  reduce  to  echelon  form,  and  then  use  back  substitution  to  solve  for each variable in turn.<br>\n",
    "Let’s start with the system of two equations that we solved earlier:\n",
    "$$ x = 4 - y$$ $$ y = x/2 + 2$$\n",
    "The  first  step  is  to  convert  this  system  of  equations  into  a  matrix  equation.\n",
    "$$ \\begin{bmatrix}1 & 1 \\\\ -1/2 & 1\\end{bmatrix}\\begin{bmatrix}x \\\\ y \\end{bmatrix} = \\begin{bmatrix} 4 \\\\ 2\\end{bmatrix}$$\n",
    "<br>Next, we augment the coefficients matrix with the constants vector:\n",
    "$$\n",
    "\\begin{bmatrix}1 & 1 & 4\\\\-1/2 & 1 & 2\\end{bmatrix}\n",
    "$$\n",
    "Then  we  row  reduce  that  augmented  matrix.  Note  that  the  column  vector  of  constants will change during row reduction:\n",
    "$$\n",
    "\\begin{bmatrix}1 & 1 & 4\\\\-1/2 & 1 & 2\\end{bmatrix}\\xrightarrow{\\text{1/2R1 + R2}}\\begin{bmatrix}1 & 1 & 4\\\\0 & 3/2 & 4\\end{bmatrix}\n",
    "$$\n",
    "Once we have the matrix in its echelon form, we translate the augmented matrix back into a system of equations. That looks like this:\n",
    "$$\n",
    "x + y = 4\n",
    "$$\n",
    "$$\n",
    "3/2y = 4\n",
    "$$\n",
    "Gaussian elimination via row reduction removed the x term in the second equation,which means that solving for y merely involves some arithmetic. Once you solve for y = 8/3, plug that value into y in the first equation and solve for x. This procedure is called back substitution."
   ]
  },
  {
   "cell_type": "markdown",
   "id": "7630b91f-2b2a-4487-b557-1950b1d4a26e",
   "metadata": {},
   "source": [
    "### Gauss-Jordan Elimination\n",
    "Let’s  keep  row  reducing  our  example  matrix  with  the  goal  of  turning  all  the  pivots the  leftmost  nonzero  numbers  in  each row into  1s.  Once  you  have  the  echelon matrix, you simply divide each row by its pivot. In this example, the first row already has a 1 in the leftmost position, so we just need to adjust the second row. That gives us the following matrix:\n",
    "$$\\begin{bmatrix}1 & 1 & 4\\\\0 & 1 & 8/3\\end{bmatrix}$$\n",
    "And now for the trick: <b>we continue row reducing upward to eliminate all the elements above each pivot. In other words, we want an echelon matrix in which each pivot is 1 and it’s the only nonzero number in its column.</b>\n",
    "$$\\begin{bmatrix}1 & 1 & 4\\\\0 & 1 & 8/3\\end{bmatrix}\\xrightarrow{\\text{-R2 + R1}}\\begin{bmatrix}1 & 0 & 4/3\\\\0 & 1 & 8/3\\end{bmatrix}$$\n",
    "That’s  the  RREF (Reduced Row Echelon Form) of  our  original  matrix.  You  can  see  the  identity  matrix  on  the  left. RREF  will  always  produce  an  identity  matrix  as  a  submatrix  in  the  upper-left  of the  original  matrix.  That’s  a  result  of  setting  all  pivots  to  1  and  using  upward  reduction to eliminate all elements above each pivot.<br>\n",
    "Now  we  continue  with  Gaussian  elimination  by  translating  the  matrix  back  into  a system of equations:\n",
    "$$\n",
    "x = 4/3\n",
    "$$\n",
    "$$\n",
    "y = 8/3\n",
    "$$\n",
    "We no longer need back substitution, or even basic arithmetic: the modified Gaussian elimination—which  is  called  Gauss-Jordan  elimination—decoupled  the  interwoven variables in the system of equations, and laid bare the solutions to each variable.<br>\n",
    "The RREF is unique, meaning that a matrix has exactly one associated RREF. NumPy does  not  have  a  function  to  compute  the  RREF  of  a  matrix,  but  the  sympy  library does  (sympy  is  the  symbolic  math  library  in  Python  and  is  a  powerful  engine  for“chalkboard math”):"
   ]
  },
  {
   "cell_type": "code",
   "execution_count": 3,
   "id": "88efc730-d17c-4fa1-8fd6-832ef704bdb3",
   "metadata": {},
   "outputs": [
    {
     "data": {
      "text/latex": [
       "$\\displaystyle \\left[\\begin{matrix}1 & 0 & 1.33333333333333\\\\0 & 1 & 2.66666666666667\\end{matrix}\\right]$"
      ],
      "text/plain": [
       "Matrix([\n",
       "[1, 0, 1.33333333333333],\n",
       "[0, 1, 2.66666666666667]])"
      ]
     },
     "execution_count": 3,
     "metadata": {},
     "output_type": "execute_result"
    }
   ],
   "source": [
    "# the matrix converted to sympy\n",
    "M = np.array([ [1,1,4],[-1/2,1,2] ])\n",
    "symMat = sym.Matrix(M)\n",
    "# RREF\n",
    "symMat.rref()[0]"
   ]
  },
  {
   "cell_type": "markdown",
   "id": "1804f650-819d-4e05-a903-d5eecfaf4296",
   "metadata": {},
   "source": [
    "### Matrix Inverse via Gauss-Jordan Elimination\n",
    "The  key  insight  from  Gauss-Jordan  elimination  is  that  row  reduction  produces  asequence  of  row  manipulations  that  solves  a set  of  equations.  Those  row  manipulations are linear transformations.<br>\n",
    "The description of Gauss-Jordan elimination is consistent with the description  of  the  matrix  inverse:  a  linear  transformation  that solves  a  set  of  equations.  But wait, what “system of equations” does the matrix inverse solve? A fresh perspective on the matrix inverse will provide some new insights. Consider this system of equations:\n",
    "$$\n",
    "ax_1 + by_1 = 1\n",
    "$$\n",
    "$$\n",
    "cx_1 + dy_1 = 0\n",
    "$$\n",
    "Translated into a matrix equation, we get:\n",
    "$$\n",
    "\\begin{bmatrix}a & b\\\\c & d\\end{bmatrix}\\begin{bmatrix}x_1\\\\y_1\\end{bmatrix} = \\begin{bmatrix}1\\\\0\\end{bmatrix}\n",
    "$$\n",
    "Check  out  that  constants  vector—it  is  the  first  column  of  the  2 × 2  identity  matrix! That  means  that  applying  RREF  to  a  square  full-rank  matrix  augmented  by  the  first column  of  the  identity  matrix  will  reveal  the  linear  transformation  that  brings  the matrix  into  the  first  column  of  the  identity  matrix.  And  that  in  turn  means  that  the vector $[x_1 y_1]^T$ is the first column of the matrix inverse.<br>\n",
    "We then repeat the procedure but solving for the second column of the inverse:\n",
    "$$\n",
    "ax_2 + by_2 = 0\n",
    "$$\n",
    "$$\n",
    "cx_2 + dy_2 = 1\n",
    "$$\n",
    "RREF  on  that  system  gives  the  vector  $[x_2 y_2]^T$,  which  is  the  second  column  of  the matrix inverse.<br>\n",
    "I’ve  separated  the  columns  of  the  identity  matrix  to  link  back  to  the  perspective  of solving systems of equations. But we can augment the entire identity matrix and solve for the inverse with one RREF.<br>\n",
    "Here is the bird’s-eye view of obtaining the matrix inverse via Gauss-Jordan elimination  (the  square  brackets  indicate  augmented  matrices  with  the  vertical  line  separating the two constituent matrices):\n",
    "$$\n",
    "rref([ A | I ]) => [ I | A^{-1} ]\n",
    "$$\n",
    "This is interesting because it provides a mechanism for computing the matrix inverse without  computing  determinants.  On  the  other  hand,  row  reduction  does  involve  a lot  of  division,  which  increases  the  risk  of  numerical  precision  errors."
   ]
  },
  {
   "cell_type": "markdown",
   "id": "b63cef55-1995-40de-b02e-96252e6f7006",
   "metadata": {},
   "source": [
    "## LU Decomposition\n",
    "<a id='lu_decomp'></a>\n",
    "The “LU” in LU decomposition stands for “lower upper,” as in lower-triangular, upper-triangular.  The  idea  is  to  decompose  a  matrix  into  the  product  of  two  triangular matrices:\n",
    "$$ A = LU$$\n",
    "$$ A = P^TLU$$\n",
    "$$ A^{-1} = (P^TLU)^{-1}$$\n",
    "$$ A^{-1} = U^{-1}L^{-1}P$$\n",
    "Here’s a numerical example:\n",
    "$$\n",
    "\\begin{bmatrix}2 & 2 & 4\\\\1 & 0 & 3\\\\2 & 1 & 2\\end{bmatrix} = \\begin{bmatrix}1 & 0 & 0\\\\1/2 & 1 & 0\\\\1 & 1 & 1\\end{bmatrix}\\begin{bmatrix}2 & 2 & 4\\\\0 & -1 & 1\\\\0 & 0 & -3\\end{bmatrix}\n",
    "$$\n",
    "And here’s the corresponding Python code (note that the function for LU decomposition is in the SciPy library):"
   ]
  },
  {
   "cell_type": "code",
   "execution_count": 4,
   "id": "dc0d6fe5-b925-43a7-83be-916afd325a7f",
   "metadata": {},
   "outputs": [
    {
     "name": "stdout",
     "output_type": "stream",
     "text": [
      "L: [[1.  0.  0. ]\n",
      " [0.5 1.  0. ]\n",
      " [1.  1.  1. ]]\n",
      "U: [[ 2.  2.  4.]\n",
      " [ 0. -1.  1.]\n",
      " [ 0.  0. -3.]]\n"
     ]
    }
   ],
   "source": [
    "A = np.array([ [2,2,4], [1,0,3], [2,1,2] ])\n",
    "_,L,U = scipy.linalg.lu(A)\n",
    "print(f'L: {L}')\n",
    "print(f'U: {U}')"
   ]
  },
  {
   "cell_type": "markdown",
   "id": "7ed42c12-58bf-4f89-902a-db0c0e360c59",
   "metadata": {},
   "source": [
    "Row  reduction  can  be  expressed  as  $L^{−1}A=U$,  where  $L^{−1}$  contains  the  set  of  row manipulations that transforms the dense A into upper-triangular (echelon) U.<br>\n",
    "Because the echelon form is not unique, LU decomposition is not necessarily unique.That is, there is an infinite pairing of lower- and upper-triangular matrices that could multiply  to  produce  matrix  A.  However,  adding  the  constraint  that  the  diagonals  of L  equal  1  ensures  that  LU  decomposition  is  unique  for  a  full-rank  square  matrix  A.<br>\n",
    "The  uniqueness  of  LU  decompositions of reduced-rank and nonsquare matrices is a longer discussion that I will omit here;however, SciPy’s LU decomposition algorithm is determinstic, meaning that repeated LU decompositions of a given matrix will be identical."
   ]
  },
  {
   "cell_type": "markdown",
   "id": "ae03ad31-bfd0-4d44-8f73-edaef8736aaa",
   "metadata": {},
   "source": [
    "### Row Swaps via Permutation Matrices\n",
    "Some  matrices  do  not  easily  transform  into  an  upper-triangular  form.  Consider  the following matrix:\n",
    "$$\\begin{bmatrix}3 & 2 & 1\\\\0 & 0 & 5\\\\0 & 7 & 2\\end{bmatrix}$$\n",
    "It’s  not  in  echelon  form,  but  it  would  be  if  we  swapped  the  second  and  third  rows.Row  swaps  are  one  of  the  tricks  of  row  reduction,  and  are  implemented  through  a permutation matrix:\n",
    "$$\\begin{bmatrix}1 & 0 & 0\\\\0 & 0 & 1\\\\0 & 1 & 0\\end{bmatrix}\\begin{bmatrix}3 & 2 & 1\\\\0 & 0 & 5\\\\0 & 7 & 2\\end{bmatrix} = \\begin{bmatrix}3 & 2 & 1\\\\0 & 7 & 2\\\\0 & 0 & 5\\end{bmatrix}$$\n",
    "Permutation  matrices  are  often  labeled  P.  Thus,  the  full  LU  decomposition  actually takes the following form:\n",
    "$$\n",
    "PA = LU\n",
    "$$\n",
    "$$\n",
    "A = P^TLU\n",
    "$$\n",
    "<b>Permutation  matrices  are  orthogonal,  and  so  $P^{−1}=PT$</b><br>\n",
    "Briefly,  the reason  is  that  all  elements  of  a  permutation  matrix  are  either  0  or  1,  and  because rows are swapped only once, each column has exactly one nonzero element (indeed,all  permutation  matrices  are  identity  matrices  with  row  swaps).  Therefore,  the  dot product  of  any  two  columns  is  0  while  the  dot  product  of  a  column  with  itself  is  1,meaning $P^TP=I$.<br>\n",
    "#### Important:  the  formulas written  above  provide  the  mathematical  description  of LU  decomposition.  Scipy  actually  returns  A=PLU,  which  we  could  also  write  as $P^TA=LU$"
   ]
  },
  {
   "cell_type": "markdown",
   "id": "94df08b0-1af2-45f2-b13b-d07e62897ddb",
   "metadata": {},
   "source": [
    "## Code Exercises"
   ]
  },
  {
   "cell_type": "markdown",
   "id": "64a349ef-b0cc-4d6c-ac06-7aca68799826",
   "metadata": {},
   "source": [
    "### Question 10-1. LU  decomposition  can  be  computationally  intensive,  although  it  is  more  efficient than  other  decompositions  such  as  QR.  Interestingly,  LU  decomposition  is  often used  as  a  benchmark  to  compare  computation  times  between  operating  systems,hardware  processors,  computer  languages  (e.g.,  C  versus  Python  versus  MATLAB),or  implementation  algorithms.  Out  of  curiousity,  I  tested  how  long  it  took  Python and MATLAB to run LU decomposition on a thousand matrices of size 100 × 100. On my laptop, MATLAB took around 300 ms while Python took around 410 ms. Python on Google Colab took around 1,000 ms. Test how long this takes on your computer."
   ]
  },
  {
   "cell_type": "code",
   "execution_count": 5,
   "id": "07007ccc-1ab3-40e0-86f2-51f6cbe5392d",
   "metadata": {},
   "outputs": [
    {
     "data": {
      "text/plain": [
       "0.5164806842803955"
      ]
     },
     "execution_count": 5,
     "metadata": {},
     "output_type": "execute_result"
    }
   ],
   "source": [
    "import time\n",
    "\n",
    "start = time.time()\n",
    "\n",
    "\n",
    "for i in range(1000):\n",
    "  A = np.random.randn(100,100)\n",
    "  P,L,U = scipy.linalg.lu(A)\n",
    "\n",
    "# stop the timer\n",
    "end = time.time()\n",
    "end - start"
   ]
  },
  {
   "attachments": {
    "54315b0a-7d5d-46a4-964f-acfd6d806bbc.png": {
     "image/png": "[encoded data removed]"
    }
   },
   "cell_type": "markdown",
   "id": "f4f90f32-f2d6-4553-9662-8f6c8cb96840",
   "metadata": {},
   "source": [
    "### Question 10-2. Use  the  matrix-multiplication  method  to  make  a  6 × 8  rank-3  matrix.  Take  its  LU decomposition,  and  show  the  three  matrices  with  their  ranks  in  the  title,  as  in Figure  10-2.  Notice  the  ranks  of  the  three  matrices  and  that  L  has  all  1s  on  the diagonal. Feel free to explore the ranks of matrices with other sizes and ranks.\n",
    "![image.png](attachment:54315b0a-7d5d-46a4-964f-acfd6d806bbc.png)"
   ]
  },
  {
   "cell_type": "code",
   "execution_count": 6,
   "id": "b6195ab9-c67a-4a8e-a0fc-4205bfd78900",
   "metadata": {},
   "outputs": [
    {
     "data": {
      "image/png": "[encoded data removed]",
      "text/plain": [
       "<Figure size 1200x700 with 3 Axes>"
      ]
     },
     "metadata": {},
     "output_type": "display_data"
    }
   ],
   "source": [
    "m = 6\n",
    "n = 8\n",
    "r = 3\n",
    "A = np.random.randn(m,r)@np.random.randn(r,n)\n",
    "P,L,U = scipy.linalg.lu(A)\n",
    "# and plot\n",
    "_,axs = plt.subplots(1,3,figsize=(12,7))\n",
    "\n",
    "axs[0].imshow(A,vmin=-1,vmax=1,cmap='gray')\n",
    "axs[0].set_title(f'A, rank={np.linalg.matrix_rank(A)}')\n",
    "\n",
    "axs[1].imshow(L,vmin=-1,vmax=1,cmap='gray')\n",
    "axs[1].set_title(f'L, rank={np.linalg.matrix_rank(L)}')\n",
    "\n",
    "axs[2].imshow(U,vmin=-1,vmax=1,cmap='gray')\n",
    "axs[2].set_title(f'U, rank={np.linalg.matrix_rank(U)}')\n",
    "\n",
    "plt.tight_layout()\n",
    "plt.show()"
   ]
  },
  {
   "cell_type": "code",
   "execution_count": 7,
   "id": "8ee29de6-a3de-443f-819f-599d7a42f0ff",
   "metadata": {},
   "outputs": [
    {
     "data": {
      "text/plain": [
       "array([[ 1.  ,  0.  ,  0.  ,  0.  ,  0.  ,  0.  ],\n",
       "       [ 0.24,  1.  ,  0.  ,  0.  ,  0.  ,  0.  ],\n",
       "       [ 0.41,  0.74,  1.  ,  0.  ,  0.  ,  0.  ],\n",
       "       [ 0.7 ,  0.51,  0.49,  1.  ,  0.  ,  0.  ],\n",
       "       [-0.29,  0.68,  0.24, -0.25,  1.  ,  0.  ],\n",
       "       [ 0.65,  0.53,  0.65,  0.5 ,  0.  ,  1.  ]])"
      ]
     },
     "execution_count": 7,
     "metadata": {},
     "output_type": "execute_result"
    }
   ],
   "source": [
    "np.round(L,2)"
   ]
  },
  {
   "cell_type": "markdown",
   "id": "bdfff5c3-4004-4171-87aa-d03435760408",
   "metadata": {},
   "source": [
    "### Question 10-3.One  application  of  LU  decomposition  is  computing  the  determinant.  Here  are  two properties of the determinant: the determinant of a triangular matrix is the product of  the  diagonals,  and  the  determinant  of  a  product  matrix  equals  the  product  of the determinants (that is, det(AB)=det(A)det(B)). Putting these two facts together, you  can  compute  the  determinant  of  a  matrix  as  the  product  of  the  diagonals  of  L times  the  product  of  the  diagonals  of  U.  On  the  other  hand,  because  the  diagonals of L are all 1 (when implemented in Python to ensure uniqueness of the decomposition),  then  the  determinant  of  a  matrix  A  is  simply  the  product  of  the  diagonals  of U. Try it in Python—and compare to the result of np.linalg.det(A) multiple times with different random matrices, before reading the next paragraph.<br>\n",
    "### Did  you  get  the  same  result  as  Python?  I  assume  you  found  that  the  determinants match  in  magnitude  but  that  the  signs  would  seemingly  randomly  differ.  Why  did that  happen?  It  happened  because  I  omitted  the  permutation  matrix  in  the  instructions.  The  determinant  of  a  permutation  matrix  is  +1  for  an  even  number  of  row swaps  and  −1  for  an  odd  number  of  row  swaps.  Now  go  back  to  your  code  and include the determinant of P in your computations.\n"
   ]
  },
  {
   "cell_type": "code",
   "execution_count": 8,
   "id": "6ab78d8a-4b7d-47a9-9b8c-e6b49fcf721f",
   "metadata": {},
   "outputs": [
    {
     "name": "stdout",
     "output_type": "stream",
     "text": [
      "-3.1820950890949873 -3.1820950890949873\n",
      "0.0\n"
     ]
    }
   ],
   "source": [
    "# a matrix and its det\n",
    "M = 6\n",
    "A = np.random.randn(M,M)\n",
    "\n",
    "# LU\n",
    "P,L,U = scipy.linalg.lu(A)\n",
    "\n",
    "# determinant as the product of the diagonals of U\n",
    "detLU = np.prod( np.diag(U) ) * np.linalg.det(P)\n",
    "\n",
    "# check against the det function\n",
    "detNP = np.linalg.det(A)\n",
    "\n",
    "# compare\n",
    "print(detLU,detNP)\n",
    "print(detLU-detNP)"
   ]
  },
  {
   "cell_type": "markdown",
   "id": "6d59d420-c296-4b88-bb37-eba4f96accec",
   "metadata": {},
   "source": [
    "### Question 10-4.Following the formula from the section [“LU Decomposition”](#lu_decomp) , the inverse of a matrix can be expressed as:\n",
    "$$ A = P^TLU$$\n",
    "$$ A^{-1} = (P^TLU)^{-1}$$\n",
    "$$ A^{-1} = U^{-1}L^{-1}P$$\n",
    "### Implement  that  third  equation  directly  using  the  output  from  scipy.linalg.lu  on a  4 × 4  random-numbers  matrix.  Is  $AA^{−1}$  the  identity  matrix?  Sometimes  it  is  and sometimes it isn’t, depending on P. This discrepancy occurs because of what I wrote about  the  output  of  scipy.linalg.lu.  Adjust  the  code  so  that  it  follows  SciPy’sconvention instead of the math convention.\n",
    "\n",
    "## Here is the take-home message from this exercise: the absence of error messages does not  necessarily  mean  your  code  is  correct.  Please  sanity-check  your  mathematical code as much as possible"
   ]
  },
  {
   "cell_type": "code",
   "execution_count": 9,
   "id": "eb9841cd-cdd9-4d26-8125-39c74d86fb6d",
   "metadata": {},
   "outputs": [
    {
     "data": {
      "text/plain": [
       "array([[ 1., -0., -0.,  0.],\n",
       "       [ 0.,  1.,  0., -0.],\n",
       "       [ 0., -0.,  1.,  0.],\n",
       "       [-0., -0., -0.,  1.]])"
      ]
     },
     "execution_count": 9,
     "metadata": {},
     "output_type": "execute_result"
    }
   ],
   "source": [
    "# matrix sizes\n",
    "m = 4\n",
    "A = np.random.randn(m,m)\n",
    "\n",
    "# LU decomposition\n",
    "P,L,U = scipy.linalg.lu(A)\n",
    "\n",
    "# inverse\n",
    "invViaLU = np.linalg.inv(U) @ np.linalg.inv(L) @ P.T\n",
    "\n",
    "# \"regular\" inverse\n",
    "invViaInv = np.linalg.inv(A)\n",
    "\n",
    "np.round( A@invViaLU ,10)"
   ]
  },
  {
   "cell_type": "markdown",
   "id": "2a08cb5b-bd6f-4031-969c-be7920d899a5",
   "metadata": {},
   "source": [
    "### Question 10-5.For  matrix  A=PLU  (using  Python’s  ordering  of  the  permutation  matrix),  $A^TA$  can be  computed  as  $U^TL^TLU$ without  the  permutation  matrices.  Why  is  it  possible  to drop the permutation matrix? Answer the question and then confirm in Python using random matrices that $A^TA=U^TL^TLU$ even when P≠I."
   ]
  },
  {
   "cell_type": "markdown",
   "id": "1e967f9f-1ed3-4861-b83b-c63419c1eab3",
   "metadata": {},
   "source": [
    "# The reason is that writing out the equation leads to $P^tP$ in the middle, which is the identity matrix. \n",
    "# Conceptually, it means that any row swaps are undone when multiplying by the transpose."
   ]
  },
  {
   "cell_type": "code",
   "execution_count": 10,
   "id": "87edfa50-604c-4fdd-a006-31e24f532b79",
   "metadata": {},
   "outputs": [
    {
     "data": {
      "text/plain": [
       "array([[ 0.,  0., -0.,  0.],\n",
       "       [-0., -0.,  0.,  0.],\n",
       "       [ 0.,  0.,  0.,  0.],\n",
       "       [ 0.,  0.,  0., -0.]])"
      ]
     },
     "execution_count": 10,
     "metadata": {},
     "output_type": "execute_result"
    }
   ],
   "source": [
    "# create a matrix\n",
    "A = np.random.randn(4,4)\n",
    "\n",
    "# LUP\n",
    "P,L,U = scipy.linalg.lu(A)\n",
    "\n",
    "# compute AtA via LU\n",
    "AtA_lu = U.T @ L.T @ L @ U\n",
    "\n",
    "# direct computation\n",
    "AtA_direct = A.T @ A\n",
    "\n",
    "# compare to direct computation\n",
    "np.round( AtA_lu - AtA_direct ,10)"
   ]
  }
 ],
 "metadata": {
  "kernelspec": {
   "display_name": "Python 3 (ipykernel)",
   "language": "python",
   "name": "python3"
  },
  "language_info": {
   "codemirror_mode": {
    "name": "ipython",
    "version": 3
   },
   "file_extension": ".py",
   "mimetype": "text/x-python",
   "name": "python",
   "nbconvert_exporter": "python",
   "pygments_lexer": "ipython3",
   "version": "3.8.10"
  }
 },
 "nbformat": 4,
 "nbformat_minor": 5
}
